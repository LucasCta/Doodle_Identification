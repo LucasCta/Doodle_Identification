{
  "nbformat": 4,
  "nbformat_minor": 0,
  "metadata": {
    "colab": {
      "provenance": [],
      "gpuType": "T4",
      "include_colab_link": true
    },
    "kernelspec": {
      "name": "python3",
      "display_name": "Python 3"
    },
    "language_info": {
      "name": "python"
    },
    "accelerator": "GPU"
  },
  "cells": [
    {
      "cell_type": "markdown",
      "metadata": {
        "id": "view-in-github",
        "colab_type": "text"
      },
      "source": [
        "<a href=\"https://colab.research.google.com/github/LucasCta/Doodle_Identification/blob/main/Doodles.ipynb\" target=\"_parent\"><img src=\"https://colab.research.google.com/assets/colab-badge.svg\" alt=\"Open In Colab\"/></a>"
      ]
    },
    {
      "cell_type": "code",
      "source": [
        "!pip install quickdraw"
      ],
      "metadata": {
        "id": "_m6QH93gXN1a"
      },
      "execution_count": null,
      "outputs": []
    },
    {
      "cell_type": "code",
      "execution_count": null,
      "metadata": {
        "id": "JuSyf7Qekr68"
      },
      "outputs": [],
      "source": [
        "import matplotlib.pyplot as plt\n",
        "import numpy as np\n",
        "import tensorflow as tf\n",
        "import tensorflow_datasets as tfds\n",
        "from pathlib import Path\n",
        "from quickdraw import QuickDrawDataGroup, QuickDrawData\n",
        "\n",
        "import requests\n",
        "\n",
        "from tensorflow import keras\n",
        "from keras import layers\n",
        "from keras.layers import BatchNormalization\n",
        "\n",
        "import os\n",
        "import datetime\n",
        "from keras.callbacks import TensorBoard"
      ]
    },
    {
      "cell_type": "code",
      "source": [
        "image_size = (28, 28)\n",
        "def generate_class_images(name, max_drawings, recognized):\n",
        "    directory = Path(\"dataset/\" + name)\n",
        "    if not directory.exists():\n",
        "        directory.mkdir(parents=True)\n",
        "    images = QuickDrawDataGroup(name, max_drawings=max_drawings, recognized=recognized)\n",
        "    for img in images.drawings:\n",
        "        filename = directory.as_posix() + \"/\" + str(img.key_id) + \".png\"\n",
        "        img.get_image(stroke_width=3).resize(image_size).save(filename)"
      ],
      "metadata": {
        "id": "2kVTIJFcW7n0"
      },
      "execution_count": null,
      "outputs": []
    },
    {
      "cell_type": "code",
      "source": [
        "url = 'https://gist.githubusercontent.com/atduskgreg/3cf8ef48cb0d29cf151bedad81553a54/raw/82f142562cf50b0f6fb8010f890b2f934093553e/animals.txt'\n",
        "page = requests.get(url)\n",
        "animals = page.text.split(\"\\n\")\n",
        "animals = list(map(lambda x: x.lower(), animals))\n",
        "animals = list(filter(lambda x: x in animals, QuickDrawData().drawing_names))\n",
        "print(animals)"
      ],
      "metadata": {
        "id": "3BJ3rqRNpx0S"
      },
      "execution_count": null,
      "outputs": []
    },
    {
      "cell_type": "code",
      "source": [
        "!rm -rf dataset/"
      ],
      "metadata": {
        "id": "OauXMCl6tQMU"
      },
      "execution_count": null,
      "outputs": []
    },
    {
      "cell_type": "code",
      "source": [
        "for i, label in enumerate(QuickDrawData().drawing_names):\n",
        "    if label in animals:\n",
        "      generate_class_images(label, max_drawings=10000, recognized=True)"
      ],
      "metadata": {
        "id": "swoy455jjmB3"
      },
      "execution_count": null,
      "outputs": []
    },
    {
      "cell_type": "code",
      "source": [
        "!ls dataset | wc -l && ls dataset/"
      ],
      "metadata": {
        "id": "zb0fAj-EaahU"
      },
      "execution_count": null,
      "outputs": []
    },
    {
      "cell_type": "code",
      "source": [
        "batch_size = 32\n",
        "dataset_dir = Path(\"dataset/\")\n",
        "train_ds = tf.keras.utils.image_dataset_from_directory(\n",
        "    dataset_dir,\n",
        "    validation_split=0.2,\n",
        "    subset=\"training\",\n",
        "    seed=123,\n",
        "    color_mode=\"grayscale\",\n",
        "    image_size=image_size,\n",
        "    batch_size=batch_size\n",
        ")\n",
        "val_ds = tf.keras.utils.image_dataset_from_directory(\n",
        "    dataset_dir,\n",
        "    validation_split=0.2,\n",
        "    subset=\"validation\",\n",
        "    seed=123,\n",
        "    color_mode=\"grayscale\",\n",
        "    image_size=image_size,\n",
        "    batch_size=batch_size\n",
        ")\n",
        "test_ds = val_ds.take(150)\n",
        "val_ds = val_ds.skip(150)"
      ],
      "metadata": {
        "id": "kyEoqYhPdkFX"
      },
      "execution_count": null,
      "outputs": []
    },
    {
      "cell_type": "code",
      "source": [
        "plt.figure(figsize=(8, 8))\n",
        "for images, labels in train_ds.take(1):\n",
        "    for i in range(9):\n",
        "        ax = plt.subplot(3, 3, i + 1)\n",
        "        data = images[i].numpy().astype(\"uint8\")\n",
        "        plt.imshow(data, cmap='gray', vmin=0, vmax=255)\n",
        "        plt.title(train_ds.class_names[labels[i]])\n",
        "        plt.axis(\"off\")"
      ],
      "metadata": {
        "colab": {
          "base_uri": "https://localhost:8080/",
          "height": 675
        },
        "id": "jFi-7NkfeoFJ",
        "outputId": "12eb08fb-585f-4f81-cbc2-24db05c2c246"
      },
      "execution_count": null,
      "outputs": [
        {
          "output_type": "display_data",
          "data": {
            "text/plain": [
              "<Figure size 800x800 with 9 Axes>"
            ],
            "image/png": "[encoded data removed]"
          },
          "metadata": {}
        }
      ]
    },
    {
      "cell_type": "code",
      "source": [
        "n_classes = len(animals)\n",
        "input_shape = (28, 28, 1)\n",
        "\n",
        "model = keras.Sequential([\n",
        "    layers.Rescaling(1. / 255, input_shape=input_shape),\n",
        "    layers.BatchNormalization(),\n",
        "\n",
        "    layers.Conv2D(6, kernel_size=(3, 3), padding=\"same\", activation=\"relu\"),\n",
        "    layers.Conv2D(8, kernel_size=(3, 3), padding=\"same\", activation=\"relu\"),\n",
        "    layers.Conv2D(10, kernel_size=(3, 3), padding=\"same\", activation=\"relu\"),\n",
        "    layers.BatchNormalization(),\n",
        "    layers.MaxPooling2D(pool_size=(2, 2)),\n",
        "\n",
        "    layers.Flatten(),\n",
        "\n",
        "    layers.Dense(700, activation=\"relu\"),\n",
        "    layers.BatchNormalization(),\n",
        "    layers.Dropout(0.2),\n",
        "\n",
        "    layers.Dense(500, activation=\"relu\"),\n",
        "    layers.BatchNormalization(),\n",
        "    layers.Dropout(0.2),\n",
        "\n",
        "    layers.Dense(400, activation=\"relu\"),\n",
        "    layers.Dropout(0.2),\n",
        "\n",
        "    layers.Dense(n_classes, activation=\"softmax\")\n",
        "])"
      ],
      "metadata": {
        "id": "UD5muR_3f8mS"
      },
      "execution_count": null,
      "outputs": []
    },
    {
      "cell_type": "code",
      "source": [
        "logdir = os.path.join(\"logs\", datetime.datetime.now().strftime(\"%Y%m%d-%H%M%S\"))\n",
        "tensorboard_callback = TensorBoard(logdir, histogram_freq=1)\n",
        "\n",
        "opt = keras.optimizers.Adam(learning_rate=0.01)\n",
        "model.compile(loss='sparse_categorical_crossentropy', optimizer=opt, metrics=['accuracy'])"
      ],
      "metadata": {
        "id": "i52nOoL6hCgy"
      },
      "execution_count": null,
      "outputs": []
    },
    {
      "cell_type": "code",
      "source": [
        "model.fit(\n",
        "    train_ds,\n",
        "    validation_data=val_ds,\n",
        "    epochs=32,\n",
        "    verbose=1,\n",
        "    callbacks=[tensorboard_callback]\n",
        ")"
      ],
      "metadata": {
        "id": "Rrh-9Q9ResVK"
      },
      "execution_count": null,
      "outputs": []
    },
    {
      "cell_type": "code",
      "source": [
        "model.evaluate(test_ds)"
      ],
      "metadata": {
        "id": "lJYokg5VkGpA"
      },
      "execution_count": null,
      "outputs": []
    },
    {
      "cell_type": "code",
      "source": [
        "model.predict(test_ds)"
      ],
      "metadata": {
        "id": "0kAqPYhSwEuz"
      },
      "execution_count": null,
      "outputs": []
    },
    {
      "cell_type": "code",
      "source": [
        "model.save(\"/content/model\")"
      ],
      "metadata": {
        "id": "_A3CnEREpl-f"
      },
      "execution_count": null,
      "outputs": []
    },
    {
      "cell_type": "code",
      "source": [
        "converter = tf.lite.TFLiteConverter.from_saved_model(\"/content/model/\")\n",
        "tflite_model = converter.convert()\n",
        "with open('model.tflite', 'wb') as f:\n",
        "  f.write(tflite_model)"
      ],
      "metadata": {
        "id": "4xtbB5DzOBlc"
      },
      "execution_count": null,
      "outputs": []
    }
  ]
}