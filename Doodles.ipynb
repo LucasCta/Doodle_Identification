{
  "nbformat": 4,
  "nbformat_minor": 0,
  "metadata": {
    "colab": {
      "provenance": [],
      "toc_visible": true,
      "authorship_tag": "ABX9TyNh4OUWapFWfeUM2eoVsb4A",
      "include_colab_link": true
    },
    "kernelspec": {
      "name": "python3",
      "display_name": "Python 3"
    },
    "language_info": {
      "name": "python"
    }
  },
  "cells": [
    {
      "cell_type": "markdown",
      "metadata": {
        "id": "view-in-github",
        "colab_type": "text"
      },
      "source": [
        "<a href=\"https://colab.research.google.com/github/LucasCta/Doodle_Identification/blob/main/Doodles.ipynb\" target=\"_parent\"><img src=\"https://colab.research.google.com/assets/colab-badge.svg\" alt=\"Open In Colab\"/></a>"
      ]
    },
    {
      "cell_type": "code",
      "source": [
        "!pip install quickdraw\n",
        "!rm -rf dataset/"
      ],
      "metadata": {
        "colab": {
          "base_uri": "https://localhost:8080/"
        },
        "id": "_m6QH93gXN1a",
        "outputId": "23aa2a5f-23d5-4ece-8d31-0b9474c1bff4"
      },
      "execution_count": 2,
      "outputs": [
        {
          "output_type": "stream",
          "name": "stdout",
          "text": [
            "Collecting quickdraw\n",
            "  Using cached quickdraw-1.0.0-py3-none-any.whl (11 kB)\n",
            "Requirement already satisfied: pillow in /usr/local/lib/python3.10/dist-packages (from quickdraw) (8.4.0)\n",
            "Requirement already satisfied: requests in /usr/local/lib/python3.10/dist-packages (from quickdraw) (2.27.1)\n",
            "Requirement already satisfied: urllib3<1.27,>=1.21.1 in /usr/local/lib/python3.10/dist-packages (from requests->quickdraw) (1.26.16)\n",
            "Requirement already satisfied: certifi>=2017.4.17 in /usr/local/lib/python3.10/dist-packages (from requests->quickdraw) (2023.5.7)\n",
            "Requirement already satisfied: charset-normalizer~=2.0.0 in /usr/local/lib/python3.10/dist-packages (from requests->quickdraw) (2.0.12)\n",
            "Requirement already satisfied: idna<4,>=2.5 in /usr/local/lib/python3.10/dist-packages (from requests->quickdraw) (3.4)\n",
            "Installing collected packages: quickdraw\n",
            "Successfully installed quickdraw-1.0.0\n"
          ]
        }
      ]
    },
    {
      "cell_type": "code",
      "execution_count": 3,
      "metadata": {
        "id": "JuSyf7Qekr68"
      },
      "outputs": [],
      "source": [
        "import matplotlib.pyplot as plt\n",
        "import numpy as np\n",
        "import tensorflow as tf\n",
        "import tensorflow_datasets as tfds\n",
        "from pathlib import Path\n",
        "from quickdraw import QuickDrawDataGroup, QuickDrawData\n",
        "\n",
        "import requests\n",
        "\n",
        "from tensorflow import keras\n",
        "from keras import layers\n",
        "\n",
        "import os\n",
        "import datetime\n",
        "from keras.callbacks import TensorBoard"
      ]
    },
    {
      "cell_type": "code",
      "source": [
        "image_size = (28, 28)\n",
        "\n",
        "def generate_class_images(name, max_drawings, recognized):\n",
        "    directory = Path(\"dataset/\" + name)\n",
        "\n",
        "    if not directory.exists():\n",
        "        directory.mkdir(parents=True)\n",
        "\n",
        "    images = QuickDrawDataGroup(name, max_drawings=max_drawings, recognized=recognized)\n",
        "    for img in images.drawings:\n",
        "        filename = directory.as_posix() + \"/\" + str(img.key_id) + \".png\"\n",
        "        img.get_image(stroke_width=3).resize(image_size).save(filename)\n"
      ],
      "metadata": {
        "id": "2kVTIJFcW7n0"
      },
      "execution_count": 4,
      "outputs": []
    },
    {
      "cell_type": "code",
      "source": [
        "print(QuickDrawData().drawing_names)"
      ],
      "metadata": {
        "colab": {
          "base_uri": "https://localhost:8080/"
        },
        "id": "rm3wTO59jVd1",
        "outputId": "53f06fd4-21b9-4693-a519-3bcd11213d74"
      },
      "execution_count": 5,
      "outputs": [
        {
          "output_type": "stream",
          "name": "stdout",
          "text": [
            "['aircraft carrier', 'airplane', 'alarm clock', 'ambulance', 'angel', 'animal migration', 'ant', 'anvil', 'apple', 'arm', 'asparagus', 'axe', 'backpack', 'banana', 'bandage', 'barn', 'baseball bat', 'baseball', 'basket', 'basketball', 'bat', 'bathtub', 'beach', 'bear', 'beard', 'bed', 'bee', 'belt', 'bench', 'bicycle', 'binoculars', 'bird', 'birthday cake', 'blackberry', 'blueberry', 'book', 'boomerang', 'bottlecap', 'bowtie', 'bracelet', 'brain', 'bread', 'bridge', 'broccoli', 'broom', 'bucket', 'bulldozer', 'bus', 'bush', 'butterfly', 'cactus', 'cake', 'calculator', 'calendar', 'camel', 'camera', 'camouflage', 'campfire', 'candle', 'cannon', 'canoe', 'car', 'carrot', 'castle', 'cat', 'ceiling fan', 'cell phone', 'cello', 'chair', 'chandelier', 'church', 'circle', 'clarinet', 'clock', 'cloud', 'coffee cup', 'compass', 'computer', 'cookie', 'cooler', 'couch', 'cow', 'crab', 'crayon', 'crocodile', 'crown', 'cruise ship', 'cup', 'diamond', 'dishwasher', 'diving board', 'dog', 'dolphin', 'donut', 'door', 'dragon', 'dresser', 'drill', 'drums', 'duck', 'dumbbell', 'ear', 'elbow', 'elephant', 'envelope', 'eraser', 'eye', 'eyeglasses', 'face', 'fan', 'feather', 'fence', 'finger', 'fire hydrant', 'fireplace', 'firetruck', 'fish', 'flamingo', 'flashlight', 'flip flops', 'floor lamp', 'flower', 'flying saucer', 'foot', 'fork', 'frog', 'frying pan', 'garden hose', 'garden', 'giraffe', 'goatee', 'golf club', 'grapes', 'grass', 'guitar', 'hamburger', 'hammer', 'hand', 'harp', 'hat', 'headphones', 'hedgehog', 'helicopter', 'helmet', 'hexagon', 'hockey puck', 'hockey stick', 'horse', 'hospital', 'hot air balloon', 'hot dog', 'hot tub', 'hourglass', 'house plant', 'house', 'hurricane', 'ice cream', 'jacket', 'jail', 'kangaroo', 'key', 'keyboard', 'knee', 'knife', 'ladder', 'lantern', 'laptop', 'leaf', 'leg', 'light bulb', 'lighter', 'lighthouse', 'lightning', 'line', 'lion', 'lipstick', 'lobster', 'lollipop', 'mailbox', 'map', 'marker', 'matches', 'megaphone', 'mermaid', 'microphone', 'microwave', 'monkey', 'moon', 'mosquito', 'motorbike', 'mountain', 'mouse', 'moustache', 'mouth', 'mug', 'mushroom', 'nail', 'necklace', 'nose', 'ocean', 'octagon', 'octopus', 'onion', 'oven', 'owl', 'paint can', 'paintbrush', 'palm tree', 'panda', 'pants', 'paper clip', 'parachute', 'parrot', 'passport', 'peanut', 'pear', 'peas', 'pencil', 'penguin', 'piano', 'pickup truck', 'picture frame', 'pig', 'pillow', 'pineapple', 'pizza', 'pliers', 'police car', 'pond', 'pool', 'popsicle', 'postcard', 'potato', 'power outlet', 'purse', 'rabbit', 'raccoon', 'radio', 'rain', 'rainbow', 'rake', 'remote control', 'rhinoceros', 'rifle', 'river', 'roller coaster', 'rollerskates', 'sailboat', 'sandwich', 'saw', 'saxophone', 'school bus', 'scissors', 'scorpion', 'screwdriver', 'sea turtle', 'see saw', 'shark', 'sheep', 'shoe', 'shorts', 'shovel', 'sink', 'skateboard', 'skull', 'skyscraper', 'sleeping bag', 'smiley face', 'snail', 'snake', 'snorkel', 'snowflake', 'snowman', 'soccer ball', 'sock', 'speedboat', 'spider', 'spoon', 'spreadsheet', 'square', 'squiggle', 'squirrel', 'stairs', 'star', 'steak', 'stereo', 'stethoscope', 'stitches', 'stop sign', 'stove', 'strawberry', 'streetlight', 'string bean', 'submarine', 'suitcase', 'sun', 'swan', 'sweater', 'swing set', 'sword', 'syringe', 't-shirt', 'table', 'teapot', 'teddy-bear', 'telephone', 'television', 'tennis racquet', 'tent', 'The Eiffel Tower', 'The Great Wall of China', 'The Mona Lisa', 'tiger', 'toaster', 'toe', 'toilet', 'tooth', 'toothbrush', 'toothpaste', 'tornado', 'tractor', 'traffic light', 'train', 'tree', 'triangle', 'trombone', 'truck', 'trumpet', 'umbrella', 'underwear', 'van', 'vase', 'violin', 'washing machine', 'watermelon', 'waterslide', 'whale', 'wheel', 'windmill', 'wine bottle', 'wine glass', 'wristwatch', 'yoga', 'zebra', 'zigzag']\n"
          ]
        }
      ]
    },
    {
      "cell_type": "code",
      "source": [
        "url = 'https://gist.githubusercontent.com/atduskgreg/3cf8ef48cb0d29cf151bedad81553a54/raw/82f142562cf50b0f6fb8010f890b2f934093553e/animals.txt'\n",
        "page = requests.get(url)\n",
        "animals = page.text.split(\"\\n\")\n",
        "animals = list(map(lambda x: x.lower(), animals))\n",
        "print(animals)"
      ],
      "metadata": {
        "colab": {
          "base_uri": "https://localhost:8080/"
        },
        "id": "3BJ3rqRNpx0S",
        "outputId": "43a87836-a9b5-473c-8747-69c66d2b7b6b"
      },
      "execution_count": 14,
      "outputs": [
        {
          "output_type": "stream",
          "name": "stdout",
          "text": [
            "['canidae', 'felidae', 'cat', 'cattle', 'dog', 'donkey', 'goat', 'guinea pig', 'horse', 'pig', 'rabbit', 'fancy rat varieties', 'laboratory rat strains', 'sheep breeds', 'water buffalo breeds', 'chicken breeds', 'duck breeds', 'goose breeds', 'pigeon breeds', 'turkey breeds', 'aardvark', 'aardwolf', 'african buffalo', 'african elephant', 'african leopard', 'albatross', 'alligator', 'alpaca', 'american buffalo (bison)', 'american robin', 'amphibian', 'list', 'anaconda', 'angelfish', 'anglerfish', 'ant', 'anteater', 'antelope', 'antlion', 'ape', 'aphid', 'arabian leopard', 'arctic fox', 'arctic wolf', 'armadillo', 'arrow crab', 'asp', 'ass (donkey)', 'baboon', 'badger', 'bald eagle', 'bandicoot', 'barnacle', 'barracuda', 'basilisk', 'bass', 'bat', 'beaked whale', 'bear', 'list', 'beaver', 'bedbug', 'bee', 'beetle', 'bird', 'list', 'bison', 'blackbird', 'black panther', 'black widow spider', 'blue bird', 'blue jay', 'blue whale', 'boa', 'boar', 'bobcat', 'bobolink', 'bonobo', 'booby', 'box jellyfish', 'bovid', 'buffalo, african', 'buffalo, american (bison)', 'bug', 'butterfly', 'buzzard', 'camel', 'canid', 'cape buffalo', 'capybara', 'cardinal', 'caribou', 'carp', 'cat', 'list', 'catshark', 'caterpillar', 'catfish', 'cattle', 'list', 'centipede', 'cephalopod', 'chameleon', 'cheetah', 'chickadee', 'chicken', 'list', 'chimpanzee', 'chinchilla', 'chipmunk', 'clam', 'clownfish', 'cobra', 'cockroach', 'cod', 'condor', 'constrictor', 'coral', 'cougar', 'cow', 'coyote', 'crab', 'crane', 'crane fly', 'crawdad', 'crayfish', 'cricket', 'crocodile', 'crow', 'cuckoo', 'cicada', 'damselfly', 'deer', 'dingo', 'dinosaur', 'list', 'dog', 'list', 'dolphin', 'donkey', 'list', 'dormouse', 'dove', 'dragonfly', 'dragon', 'duck', 'list', 'dung beetle', 'eagle', 'earthworm', 'earwig', 'echidna', 'eel', 'egret', 'elephant', 'elephant seal', 'elk', 'emu', 'english pointer', 'ermine', 'falcon', 'ferret', 'finch', 'firefly', 'fish', 'flamingo', 'flea', 'fly', 'flyingfish', 'fowl', 'fox', 'frog', 'fruit bat', 'gamefowl', 'list', 'galliform', 'list', 'gazelle', 'gecko', 'gerbil', 'giant panda', 'giant squid', 'gibbon', 'gila monster', 'giraffe', 'goat', 'list', 'goldfish', 'goose', 'list', 'gopher', 'gorilla', 'grasshopper', 'great blue heron', 'great white shark', 'grizzly bear', 'ground shark', 'ground sloth', 'grouse', 'guan', 'list', 'guanaco', 'guineafowl', 'list', 'guinea pig', 'list', 'gull', 'guppy', 'haddock', 'halibut', 'hammerhead shark', 'hamster', 'hare', 'harrier', 'hawk', 'hedgehog', 'hermit crab', 'heron', 'herring', 'hippopotamus', 'hookworm', 'hornet', 'horse', 'list', 'hoverfly', 'hummingbird', 'humpback whale', 'hyena', 'iguana', 'impala', 'irukandji jellyfish', 'jackal', 'jaguar', 'jay', 'jellyfish', 'junglefowl', 'kangaroo', 'kangaroo mouse', 'kangaroo rat', 'kingfisher', 'kite', 'kiwi', 'koala', 'koi', 'komodo dragon', 'krill', 'ladybug', 'lamprey', 'landfowl', 'land snail', 'lark', 'leech', 'lemming', 'lemur', 'leopard', 'leopon', 'limpet', 'lion', 'lizard', 'llama', 'lobster', 'locust', 'loon', 'louse', 'lungfish', 'lynx', 'macaw', 'mackerel', 'magpie', 'mammal', 'manatee', 'mandrill', 'manta ray', 'marlin', 'marmoset', 'marmot', 'marsupial', 'marten', 'mastodon', 'meadowlark', 'meerkat', 'mink', 'minnow', 'mite', 'mockingbird', 'mole', 'mollusk', 'mongoose', 'monitor lizard', 'monkey', 'moose', 'mosquito', 'moth', 'mountain goat', 'mouse', 'mule', 'muskox', 'narwhal', 'newt', 'new world quail', 'nightingale', 'ocelot', 'octopus', 'old world quail', 'opossum', 'orangutan', 'orca', 'ostrich', 'otter', 'owl', 'ox', 'panda', 'panther', 'panthera hybrid', 'parakeet', 'parrot', 'parrotfish', 'partridge', 'peacock', 'peafowl', 'pelican', 'penguin', 'perch', 'peregrine falcon', 'pheasant', 'pig', 'pigeon', 'list', 'pike', 'pilot whale', 'pinniped', 'piranha', 'planarian', 'platypus', 'polar bear', 'pony', 'porcupine', 'porpoise', \"portuguese man o' war\", 'possum', 'prairie dog', 'prawn', 'praying mantis', 'primate', 'ptarmigan', 'puffin', 'puma', 'python', 'quail', 'quelea', 'quokka', 'rabbit', 'list', 'raccoon', 'rainbow trout', 'rat', 'rattlesnake', 'raven', 'ray (batoidea)', 'ray (rajiformes)', 'red panda', 'reindeer', 'reptile', 'rhinoceros', 'right whale', 'roadrunner', 'rodent', 'rook', 'rooster', 'roundworm', 'saber-toothed cat', 'sailfish', 'salamander', 'salmon', 'sawfish', 'scale insect', 'scallop', 'scorpion', 'seahorse', 'sea lion', 'sea slug', 'sea snail', 'shark', 'list', 'sheep', 'list', 'shrew', 'shrimp', 'silkworm', 'silverfish', 'skink', 'skunk', 'sloth', 'slug', 'smelt', 'snail', 'snake', 'list', 'snipe', 'snow leopard', 'sockeye salmon', 'sole', 'sparrow', 'sperm whale', 'spider', 'spider monkey', 'spoonbill', 'squid', 'squirrel', 'starfish', 'star-nosed mole', 'steelhead trout', 'stingray', 'stoat', 'stork', 'sturgeon', 'sugar glider', 'swallow', 'swan', 'swift', 'swordfish', 'swordtail', 'tahr', 'takin', 'tapir', 'tarantula', 'tarsier', 'tasmanian devil', 'termite', 'tern', 'thrush', 'tick', 'tiger', 'tiger shark', 'tiglon', 'toad', 'tortoise', 'toucan', 'trapdoor spider', 'tree frog', 'trout', 'tuna', 'turkey', 'list', 'turtle', 'tyrannosaurus', 'urial', 'vampire bat', 'vampire squid', 'vicuna', 'viper', 'vole', 'vulture', 'wallaby', 'walrus', 'wasp', 'warbler', 'water boa', 'water buffalo', 'weasel', 'whale', 'whippet', 'whitefish', 'whooping crane', 'wildcat', 'wildebeest', 'wildfowl', 'wolf', 'wolverine', 'wombat', 'woodpecker', 'worm', 'wren', 'xerinae', 'x-ray fish', 'yak', 'yellow perch', 'zebra', 'zebra finch', 'animals by number of neurons', 'animals by size', 'common household pests', 'common names of poisonous animals', 'alpaca', 'bali cattle', 'cat', 'cattle', 'chicken', 'dog', 'domestic bactrian camel', 'domestic canary', 'domestic dromedary camel', 'domestic duck', 'domestic goat', 'domestic goose', 'domestic guineafowl', 'domestic hedgehog', 'domestic pig', 'domestic pigeon', 'domestic rabbit', 'domestic silkmoth', 'domestic silver fox', 'domestic turkey', 'donkey', 'fancy mouse', 'fancy rat', 'lab rat', 'ferret', 'gayal', 'goldfish', 'guinea pig', 'guppy', 'horse', 'koi', 'llama', 'ringneck dove', 'sheep', 'siamese fighting fish', 'society finch', 'yak', 'water buffalo']\n"
          ]
        }
      ]
    },
    {
      "cell_type": "code",
      "source": [
        "for i, label in enumerate(QuickDrawData().drawing_names):\n",
        "    if label in animals and i < 30:\n",
        "      generate_class_images(label, max_drawings=1000, recognized=True)"
      ],
      "metadata": {
        "colab": {
          "base_uri": "https://localhost:8080/"
        },
        "id": "swoy455jjmB3",
        "outputId": "86d09540-96be-43d5-f66b-e343d6683059"
      },
      "execution_count": 15,
      "outputs": [
        {
          "output_type": "stream",
          "name": "stdout",
          "text": [
            "downloading ant from https://storage.googleapis.com/quickdraw_dataset/full/binary/ant.bin\n",
            "download complete\n",
            "loading ant drawings\n",
            "load complete\n",
            "downloading bat from https://storage.googleapis.com/quickdraw_dataset/full/binary/bat.bin\n",
            "download complete\n",
            "loading bat drawings\n",
            "load complete\n",
            "downloading bear from https://storage.googleapis.com/quickdraw_dataset/full/binary/bear.bin\n",
            "download complete\n",
            "loading bear drawings\n",
            "load complete\n",
            "downloading bee from https://storage.googleapis.com/quickdraw_dataset/full/binary/bee.bin\n",
            "download complete\n",
            "loading bee drawings\n",
            "load complete\n"
          ]
        }
      ]
    },
    {
      "cell_type": "code",
      "source": [
        "!ls dataset/\n",
        "!ls dataset | wc -l"
      ],
      "metadata": {
        "colab": {
          "base_uri": "https://localhost:8080/"
        },
        "id": "zb0fAj-EaahU",
        "outputId": "9bf9779b-dce9-43d2-e546-bae135eb0d5f"
      },
      "execution_count": 88,
      "outputs": [
        {
          "output_type": "stream",
          "name": "stdout",
          "text": [
            "'aircraft carrier'   bathtub\t      bridge\t      lighter\n",
            " airplane\t     beach\t      broccoli\t      marker\n",
            "'alarm clock'\t     bear\t      broom\t      mountain\n",
            " ambulance\t     beard\t      bucket\t      octagon\n",
            " angel\t\t     bed\t      bulldozer      'paper clip'\n",
            "'animal migration'   bee\t      bus\t     'pickup truck'\n",
            " ant\t\t     belt\t      bush\t      popsicle\n",
            " anvil\t\t     bench\t      butterfly       rake\n",
            " apple\t\t     bicycle\t      cactus\t      saxophone\n",
            " arm\t\t     binoculars       cake\t      shorts\n",
            " asparagus\t     bird\t      canoe\t      snorkel\n",
            " axe\t\t    'birthday cake'   church\t      squiggle\n",
            " backpack\t     blackberry       couch\t      strawberry\n",
            " banana\t\t     blueberry\t     'diving board'   syringe\n",
            " bandage\t     book\t      dumbbell\t     'The Great Wall of China'\n",
            " barn\t\t     boomerang\t      feather\t      tractor\n",
            " baseball\t     bottlecap\t     'floor lamp'     van\n",
            "'baseball bat'\t     bowtie\t      goatee\t     'wine glass'\n",
            " basket\t\t     bracelet\t      headphones\n",
            " basketball\t     brain\t     'hot dog'\n",
            " bat\t\t     bread\t      key\n",
            "81\n"
          ]
        }
      ]
    },
    {
      "cell_type": "code",
      "source": [
        "batch_size = 32\n",
        "dataset_dir = Path(\"dataset/\")\n",
        "train_ds = tf.keras.utils.image_dataset_from_directory(\n",
        "    dataset_dir,\n",
        "    validation_split=0.2,\n",
        "    subset=\"training\",\n",
        "    seed=123,\n",
        "    color_mode=\"grayscale\",\n",
        "    image_size=image_size,\n",
        "    batch_size=batch_size\n",
        ")\n",
        "val_ds = tf.keras.utils.image_dataset_from_directory(\n",
        "    dataset_dir,\n",
        "    validation_split=0.2,\n",
        "    subset=\"validation\",\n",
        "    seed=123,\n",
        "    color_mode=\"grayscale\",\n",
        "    image_size=image_size,\n",
        "    batch_size=batch_size\n",
        ")"
      ],
      "metadata": {
        "colab": {
          "base_uri": "https://localhost:8080/"
        },
        "id": "kyEoqYhPdkFX",
        "outputId": "0ef47aff-dcfa-4058-870f-4e925a20d8a4"
      },
      "execution_count": 64,
      "outputs": [
        {
          "output_type": "stream",
          "name": "stdout",
          "text": [
            "Found 298713 files belonging to 81 classes.\n",
            "Using 238971 files for training.\n",
            "Found 298713 files belonging to 81 classes.\n",
            "Using 59742 files for validation.\n"
          ]
        }
      ]
    },
    {
      "cell_type": "code",
      "source": [
        "plt.figure(figsize=(8, 8))\n",
        "for images, labels in train_ds.take(1):\n",
        "    for i in range(9):\n",
        "        ax = plt.subplot(3, 3, i + 1)\n",
        "        data = images[i].numpy().astype(\"uint8\")\n",
        "        plt.imshow(data, cmap='gray', vmin=0, vmax=255)\n",
        "        plt.title(train_ds.class_names[labels[i]])\n",
        "        plt.axis(\"off\")"
      ],
      "metadata": {
        "colab": {
          "base_uri": "https://localhost:8080/",
          "height": 675
        },
        "id": "jFi-7NkfeoFJ",
        "outputId": "7731ffc1-c00d-4f6e-a73b-b89fc0bae1a6"
      },
      "execution_count": 65,
      "outputs": [
        {
          "output_type": "display_data",
          "data": {
            "text/plain": [
              "<Figure size 800x800 with 9 Axes>"
            ],
            "image/png": "[encoded data removed]"
          },
          "metadata": {}
        }
      ]
    },
    {
      "cell_type": "code",
      "source": [
        "n_classes = 81\n",
        "input_shape = (28, 28, 1)\n",
        "\n",
        "model = keras.Sequential([\n",
        "    layers.Rescaling(1. / 255, input_shape=input_shape),\n",
        "    layers.BatchNormalization(),\n",
        "\n",
        "    layers.Conv2D(6, kernel_size=(3, 3), padding=\"same\", activation=\"relu\"),\n",
        "    layers.Conv2D(8, kernel_size=(3, 3), padding=\"same\", activation=\"relu\"),\n",
        "    layers.Conv2D(10, kernel_size=(3, 3), padding=\"same\", activation=\"relu\"),\n",
        "    layers.BatchNormalization(),\n",
        "    layers.MaxPooling2D(pool_size=(2, 2)),\n",
        "\n",
        "    layers.Flatten(),\n",
        "\n",
        "    layers.Dense(700, activation=\"relu\"),\n",
        "    layers.BatchNormalization(),\n",
        "    layers.Dropout(0.2),\n",
        "\n",
        "    layers.Dense(500, activation=\"relu\"),\n",
        "    layers.BatchNormalization(),\n",
        "    layers.Dropout(0.2),\n",
        "\n",
        "    layers.Dense(400, activation=\"relu\"),\n",
        "    layers.Dropout(0.2),\n",
        "\n",
        "    layers.Dense(n_classes, activation=\"softmax\")\n",
        "])"
      ],
      "metadata": {
        "id": "UD5muR_3f8mS"
      },
      "execution_count": 100,
      "outputs": []
    },
    {
      "cell_type": "code",
      "source": [
        "epochs = 14\n",
        "\n",
        "logdir = os.path.join(\"logs\", datetime.datetime.now().strftime(\"%Y%m%d-%H%M%S\"))\n",
        "tensorboard_callback = TensorBoard(logdir, histogram_freq=1)\n",
        "\n",
        "opt = keras.optimizers.Adam(learning_rate=0.01)\n",
        "model.compile(loss='sparse_categorical_crossentropy', optimizer=opt)"
      ],
      "metadata": {
        "id": "i52nOoL6hCgy"
      },
      "execution_count": 101,
      "outputs": []
    },
    {
      "cell_type": "code",
      "source": [
        "model.fit(\n",
        "    train_ds,\n",
        "    validation_data=val_ds,\n",
        "    epochs=epochs,\n",
        "    verbose=1,\n",
        "    callbacks=[tensorboard_callback]\n",
        ")\n",
        "\n",
        "model.save('./models/model_' + datetime.datetime.now().strftime(\"%Y%m%d-%H%M%S\"))"
      ],
      "metadata": {
        "colab": {
          "base_uri": "https://localhost:8080/"
        },
        "id": "u9HY9Ydrh0TS",
        "outputId": "adce703d-1d35-4f5d-e38a-e96f98382ae4"
      },
      "execution_count": null,
      "outputs": [
        {
          "output_type": "stream",
          "name": "stdout",
          "text": [
            "Epoch 1/14\n",
            "5426/7468 [====================>.........] - ETA: 3:07 - loss: 1.8551"
          ]
        }
      ]
    }
  ]
}