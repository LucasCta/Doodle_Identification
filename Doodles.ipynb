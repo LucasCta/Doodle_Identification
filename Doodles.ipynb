{
  "nbformat": 4,
  "nbformat_minor": 0,
  "metadata": {
    "colab": {
      "provenance": [],
      "gpuType": "T4",
      "authorship_tag": "ABX9TyMFJgjtYY6FVf34IaopG++O",
      "include_colab_link": true
    },
    "kernelspec": {
      "name": "python3",
      "display_name": "Python 3"
    },
    "language_info": {
      "name": "python"
    },
    "accelerator": "GPU"
  },
  "cells": [
    {
      "cell_type": "markdown",
      "metadata": {
        "id": "view-in-github",
        "colab_type": "text"
      },
      "source": [
        "<a href=\"https://colab.research.google.com/github/LucasCta/Doodle_Identification/blob/main/Doodles.ipynb\" target=\"_parent\"><img src=\"https://colab.research.google.com/assets/colab-badge.svg\" alt=\"Open In Colab\"/></a>"
      ]
    },
    {
      "cell_type": "code",
      "source": [
        "!pip install quickdraw"
      ],
      "metadata": {
        "colab": {
          "base_uri": "https://localhost:8080/"
        },
        "id": "_m6QH93gXN1a",
        "outputId": "02c947f2-1b69-406a-fdd0-ec218a966d77"
      },
      "execution_count": 1,
      "outputs": [
        {
          "output_type": "stream",
          "name": "stdout",
          "text": [
            "Collecting quickdraw\n",
            "  Downloading quickdraw-1.0.0-py3-none-any.whl (11 kB)\n",
            "Requirement already satisfied: pillow in /usr/local/lib/python3.10/dist-packages (from quickdraw) (8.4.0)\n",
            "Requirement already satisfied: requests in /usr/local/lib/python3.10/dist-packages (from quickdraw) (2.27.1)\n",
            "Requirement already satisfied: urllib3<1.27,>=1.21.1 in /usr/local/lib/python3.10/dist-packages (from requests->quickdraw) (1.26.16)\n",
            "Requirement already satisfied: certifi>=2017.4.17 in /usr/local/lib/python3.10/dist-packages (from requests->quickdraw) (2023.5.7)\n",
            "Requirement already satisfied: charset-normalizer~=2.0.0 in /usr/local/lib/python3.10/dist-packages (from requests->quickdraw) (2.0.12)\n",
            "Requirement already satisfied: idna<4,>=2.5 in /usr/local/lib/python3.10/dist-packages (from requests->quickdraw) (3.4)\n",
            "Installing collected packages: quickdraw\n",
            "Successfully installed quickdraw-1.0.0\n"
          ]
        }
      ]
    },
    {
      "cell_type": "code",
      "execution_count": 2,
      "metadata": {
        "id": "JuSyf7Qekr68"
      },
      "outputs": [],
      "source": [
        "import matplotlib.pyplot as plt\n",
        "import numpy as np\n",
        "import tensorflow as tf\n",
        "import tensorflow_datasets as tfds\n",
        "from pathlib import Path\n",
        "from quickdraw import QuickDrawDataGroup, QuickDrawData\n",
        "\n",
        "import requests\n",
        "\n",
        "from tensorflow import keras\n",
        "from keras import layers\n",
        "\n",
        "import os\n",
        "import datetime\n",
        "from keras.callbacks import TensorBoard"
      ]
    },
    {
      "cell_type": "code",
      "source": [
        "image_size = (28, 28)\n",
        "\n",
        "def generate_class_images(name, max_drawings, recognized):\n",
        "    directory = Path(\"dataset/\" + name)\n",
        "\n",
        "    if not directory.exists():\n",
        "        directory.mkdir(parents=True)\n",
        "\n",
        "    images = QuickDrawDataGroup(name, max_drawings=max_drawings, recognized=recognized)\n",
        "    for img in images.drawings:\n",
        "        filename = directory.as_posix() + \"/\" + str(img.key_id) + \".png\"\n",
        "        img.get_image(stroke_width=3).resize(image_size).save(filename)\n"
      ],
      "metadata": {
        "id": "2kVTIJFcW7n0"
      },
      "execution_count": 3,
      "outputs": []
    },
    {
      "cell_type": "code",
      "source": [
        "url = 'https://gist.githubusercontent.com/atduskgreg/3cf8ef48cb0d29cf151bedad81553a54/raw/82f142562cf50b0f6fb8010f890b2f934093553e/animals.txt'\n",
        "page = requests.get(url)\n",
        "animals = page.text.split(\"\\n\")\n",
        "animals = list(map(lambda x: x.lower(), animals))\n",
        "animals = list(filter(lambda x: x in animals, QuickDrawData().drawing_names))\n",
        "print(animals)"
      ],
      "metadata": {
        "colab": {
          "base_uri": "https://localhost:8080/"
        },
        "id": "3BJ3rqRNpx0S",
        "outputId": "9988dd88-f76f-47a9-f2bc-e807865c7398"
      },
      "execution_count": 5,
      "outputs": [
        {
          "output_type": "stream",
          "name": "stdout",
          "text": [
            "['ant', 'bat', 'bear', 'bee', 'bird', 'butterfly', 'camel', 'cat', 'cow', 'crab', 'crocodile', 'dog', 'dolphin', 'dragon', 'duck', 'elephant', 'fish', 'flamingo', 'frog', 'giraffe', 'hedgehog', 'horse', 'kangaroo', 'lion', 'lobster', 'monkey', 'mosquito', 'mouse', 'octopus', 'owl', 'panda', 'parrot', 'penguin', 'pig', 'rabbit', 'raccoon', 'rhinoceros', 'scorpion', 'shark', 'sheep', 'snail', 'snake', 'spider', 'squirrel', 'swan', 'tiger', 'whale', 'zebra']\n"
          ]
        }
      ]
    },
    {
      "cell_type": "code",
      "source": [
        "!rm -rf dataset/"
      ],
      "metadata": {
        "id": "OauXMCl6tQMU"
      },
      "execution_count": 6,
      "outputs": []
    },
    {
      "cell_type": "code",
      "source": [
        "for i, label in enumerate(QuickDrawData().drawing_names):\n",
        "    if label in animals:\n",
        "      generate_class_images(label, max_drawings=1000, recognized=True)"
      ],
      "metadata": {
        "colab": {
          "base_uri": "https://localhost:8080/"
        },
        "id": "swoy455jjmB3",
        "outputId": "8f74d361-10d9-4d24-fdc9-611861c7e2f3"
      },
      "execution_count": 7,
      "outputs": [
        {
          "output_type": "stream",
          "name": "stdout",
          "text": [
            "downloading ant from https://storage.googleapis.com/quickdraw_dataset/full/binary/ant.bin\n",
            "download complete\n",
            "loading ant drawings\n",
            "load complete\n",
            "downloading bat from https://storage.googleapis.com/quickdraw_dataset/full/binary/bat.bin\n",
            "download complete\n",
            "loading bat drawings\n",
            "load complete\n",
            "downloading bear from https://storage.googleapis.com/quickdraw_dataset/full/binary/bear.bin\n",
            "download complete\n",
            "loading bear drawings\n",
            "load complete\n",
            "downloading bee from https://storage.googleapis.com/quickdraw_dataset/full/binary/bee.bin\n",
            "download complete\n",
            "loading bee drawings\n",
            "load complete\n",
            "downloading bird from https://storage.googleapis.com/quickdraw_dataset/full/binary/bird.bin\n",
            "download complete\n",
            "loading bird drawings\n",
            "load complete\n",
            "downloading butterfly from https://storage.googleapis.com/quickdraw_dataset/full/binary/butterfly.bin\n",
            "download complete\n",
            "loading butterfly drawings\n",
            "load complete\n",
            "downloading camel from https://storage.googleapis.com/quickdraw_dataset/full/binary/camel.bin\n",
            "download complete\n",
            "loading camel drawings\n",
            "load complete\n",
            "downloading cat from https://storage.googleapis.com/quickdraw_dataset/full/binary/cat.bin\n",
            "download complete\n",
            "loading cat drawings\n",
            "load complete\n",
            "downloading cow from https://storage.googleapis.com/quickdraw_dataset/full/binary/cow.bin\n",
            "download complete\n",
            "loading cow drawings\n",
            "load complete\n",
            "downloading crab from https://storage.googleapis.com/quickdraw_dataset/full/binary/crab.bin\n",
            "download complete\n",
            "loading crab drawings\n",
            "load complete\n",
            "downloading crocodile from https://storage.googleapis.com/quickdraw_dataset/full/binary/crocodile.bin\n",
            "download complete\n",
            "loading crocodile drawings\n",
            "load complete\n",
            "downloading dog from https://storage.googleapis.com/quickdraw_dataset/full/binary/dog.bin\n",
            "download complete\n",
            "loading dog drawings\n",
            "load complete\n",
            "downloading dolphin from https://storage.googleapis.com/quickdraw_dataset/full/binary/dolphin.bin\n",
            "download complete\n",
            "loading dolphin drawings\n",
            "load complete\n",
            "downloading dragon from https://storage.googleapis.com/quickdraw_dataset/full/binary/dragon.bin\n",
            "download complete\n",
            "loading dragon drawings\n",
            "load complete\n",
            "downloading duck from https://storage.googleapis.com/quickdraw_dataset/full/binary/duck.bin\n",
            "download complete\n",
            "loading duck drawings\n",
            "load complete\n",
            "downloading elephant from https://storage.googleapis.com/quickdraw_dataset/full/binary/elephant.bin\n",
            "download complete\n",
            "loading elephant drawings\n",
            "load complete\n",
            "downloading fish from https://storage.googleapis.com/quickdraw_dataset/full/binary/fish.bin\n",
            "download complete\n",
            "loading fish drawings\n",
            "load complete\n",
            "downloading flamingo from https://storage.googleapis.com/quickdraw_dataset/full/binary/flamingo.bin\n",
            "download complete\n",
            "loading flamingo drawings\n",
            "load complete\n",
            "downloading frog from https://storage.googleapis.com/quickdraw_dataset/full/binary/frog.bin\n",
            "download complete\n",
            "loading frog drawings\n",
            "load complete\n",
            "downloading giraffe from https://storage.googleapis.com/quickdraw_dataset/full/binary/giraffe.bin\n",
            "download complete\n",
            "loading giraffe drawings\n",
            "load complete\n",
            "downloading hedgehog from https://storage.googleapis.com/quickdraw_dataset/full/binary/hedgehog.bin\n",
            "download complete\n",
            "loading hedgehog drawings\n",
            "load complete\n",
            "downloading horse from https://storage.googleapis.com/quickdraw_dataset/full/binary/horse.bin\n",
            "download complete\n",
            "loading horse drawings\n",
            "load complete\n",
            "downloading kangaroo from https://storage.googleapis.com/quickdraw_dataset/full/binary/kangaroo.bin\n",
            "download complete\n",
            "loading kangaroo drawings\n",
            "load complete\n",
            "downloading lion from https://storage.googleapis.com/quickdraw_dataset/full/binary/lion.bin\n",
            "download complete\n",
            "loading lion drawings\n",
            "load complete\n",
            "downloading lobster from https://storage.googleapis.com/quickdraw_dataset/full/binary/lobster.bin\n",
            "download complete\n",
            "loading lobster drawings\n",
            "load complete\n",
            "downloading monkey from https://storage.googleapis.com/quickdraw_dataset/full/binary/monkey.bin\n",
            "download complete\n",
            "loading monkey drawings\n",
            "load complete\n",
            "downloading mosquito from https://storage.googleapis.com/quickdraw_dataset/full/binary/mosquito.bin\n",
            "download complete\n",
            "loading mosquito drawings\n",
            "load complete\n",
            "downloading mouse from https://storage.googleapis.com/quickdraw_dataset/full/binary/mouse.bin\n",
            "download complete\n",
            "loading mouse drawings\n",
            "load complete\n",
            "downloading octopus from https://storage.googleapis.com/quickdraw_dataset/full/binary/octopus.bin\n",
            "download complete\n",
            "loading octopus drawings\n",
            "load complete\n",
            "downloading owl from https://storage.googleapis.com/quickdraw_dataset/full/binary/owl.bin\n",
            "download complete\n",
            "loading owl drawings\n",
            "load complete\n",
            "downloading panda from https://storage.googleapis.com/quickdraw_dataset/full/binary/panda.bin\n",
            "download complete\n",
            "loading panda drawings\n",
            "load complete\n",
            "downloading parrot from https://storage.googleapis.com/quickdraw_dataset/full/binary/parrot.bin\n",
            "download complete\n",
            "loading parrot drawings\n",
            "load complete\n",
            "downloading penguin from https://storage.googleapis.com/quickdraw_dataset/full/binary/penguin.bin\n",
            "download complete\n",
            "loading penguin drawings\n",
            "load complete\n",
            "downloading pig from https://storage.googleapis.com/quickdraw_dataset/full/binary/pig.bin\n",
            "download complete\n",
            "loading pig drawings\n",
            "load complete\n",
            "downloading rabbit from https://storage.googleapis.com/quickdraw_dataset/full/binary/rabbit.bin\n",
            "download complete\n",
            "loading rabbit drawings\n",
            "load complete\n",
            "downloading raccoon from https://storage.googleapis.com/quickdraw_dataset/full/binary/raccoon.bin\n",
            "download complete\n",
            "loading raccoon drawings\n",
            "load complete\n",
            "downloading rhinoceros from https://storage.googleapis.com/quickdraw_dataset/full/binary/rhinoceros.bin\n",
            "download complete\n",
            "loading rhinoceros drawings\n",
            "load complete\n",
            "downloading scorpion from https://storage.googleapis.com/quickdraw_dataset/full/binary/scorpion.bin\n",
            "download complete\n",
            "loading scorpion drawings\n",
            "load complete\n",
            "downloading shark from https://storage.googleapis.com/quickdraw_dataset/full/binary/shark.bin\n",
            "download complete\n",
            "loading shark drawings\n",
            "load complete\n",
            "downloading sheep from https://storage.googleapis.com/quickdraw_dataset/full/binary/sheep.bin\n",
            "download complete\n",
            "loading sheep drawings\n",
            "load complete\n",
            "downloading snail from https://storage.googleapis.com/quickdraw_dataset/full/binary/snail.bin\n",
            "download complete\n",
            "loading snail drawings\n",
            "load complete\n",
            "downloading snake from https://storage.googleapis.com/quickdraw_dataset/full/binary/snake.bin\n",
            "download complete\n",
            "loading snake drawings\n",
            "load complete\n",
            "downloading spider from https://storage.googleapis.com/quickdraw_dataset/full/binary/spider.bin\n",
            "download complete\n",
            "loading spider drawings\n",
            "load complete\n",
            "downloading squirrel from https://storage.googleapis.com/quickdraw_dataset/full/binary/squirrel.bin\n",
            "download complete\n",
            "loading squirrel drawings\n",
            "load complete\n",
            "downloading swan from https://storage.googleapis.com/quickdraw_dataset/full/binary/swan.bin\n",
            "download complete\n",
            "loading swan drawings\n",
            "load complete\n",
            "downloading tiger from https://storage.googleapis.com/quickdraw_dataset/full/binary/tiger.bin\n",
            "download complete\n",
            "loading tiger drawings\n",
            "load complete\n",
            "downloading whale from https://storage.googleapis.com/quickdraw_dataset/full/binary/whale.bin\n",
            "download complete\n",
            "loading whale drawings\n",
            "load complete\n",
            "downloading zebra from https://storage.googleapis.com/quickdraw_dataset/full/binary/zebra.bin\n",
            "download complete\n",
            "loading zebra drawings\n",
            "load complete\n"
          ]
        }
      ]
    },
    {
      "cell_type": "code",
      "source": [
        "!ls dataset | wc -l && ls dataset/"
      ],
      "metadata": {
        "colab": {
          "base_uri": "https://localhost:8080/"
        },
        "id": "zb0fAj-EaahU",
        "outputId": "bffb4487-e8f4-44df-e6de-8fce07750fe8"
      },
      "execution_count": 10,
      "outputs": [
        {
          "output_type": "stream",
          "name": "stdout",
          "text": [
            "48\n",
            "ant\t   cat\t      duck\thorse\t  octopus  raccoon     spider\n",
            "bat\t   cow\t      elephant\tkangaroo  owl\t   rhinoceros  squirrel\n",
            "bear\t   crab       fish\tlion\t  panda    scorpion    swan\n",
            "bee\t   crocodile  flamingo\tlobster   parrot   shark       tiger\n",
            "bird\t   dog\t      frog\tmonkey\t  penguin  sheep       whale\n",
            "butterfly  dolphin    giraffe\tmosquito  pig\t   snail       zebra\n",
            "camel\t   dragon     hedgehog\tmouse\t  rabbit   snake\n"
          ]
        }
      ]
    },
    {
      "cell_type": "code",
      "source": [
        "batch_size = 32\n",
        "dataset_dir = Path(\"dataset/\")\n",
        "train_ds = tf.keras.utils.image_dataset_from_directory(\n",
        "    dataset_dir,\n",
        "    validation_split=0.2,\n",
        "    subset=\"training\",\n",
        "    seed=123,\n",
        "    color_mode=\"grayscale\",\n",
        "    image_size=image_size,\n",
        "    batch_size=batch_size\n",
        ")\n",
        "val_ds = tf.keras.utils.image_dataset_from_directory(\n",
        "    dataset_dir,\n",
        "    validation_split=0.2,\n",
        "    subset=\"validation\",\n",
        "    seed=123,\n",
        "    color_mode=\"grayscale\",\n",
        "    image_size=image_size,\n",
        "    batch_size=batch_size\n",
        ")"
      ],
      "metadata": {
        "colab": {
          "base_uri": "https://localhost:8080/"
        },
        "id": "kyEoqYhPdkFX",
        "outputId": "1417f925-4a53-45df-f55f-a82215a794b9"
      },
      "execution_count": 11,
      "outputs": [
        {
          "output_type": "stream",
          "name": "stdout",
          "text": [
            "Found 48000 files belonging to 48 classes.\n",
            "Using 38400 files for training.\n",
            "Found 48000 files belonging to 48 classes.\n",
            "Using 9600 files for validation.\n"
          ]
        }
      ]
    },
    {
      "cell_type": "code",
      "source": [
        "plt.figure(figsize=(8, 8))\n",
        "for images, labels in train_ds.take(1):\n",
        "    for i in range(9):\n",
        "        ax = plt.subplot(3, 3, i + 1)\n",
        "        data = images[i].numpy().astype(\"uint8\")\n",
        "        plt.imshow(data, cmap='gray', vmin=0, vmax=255)\n",
        "        plt.title(train_ds.class_names[labels[i]])\n",
        "        plt.axis(\"off\")"
      ],
      "metadata": {
        "colab": {
          "base_uri": "https://localhost:8080/",
          "height": 675
        },
        "id": "jFi-7NkfeoFJ",
        "outputId": "ab30c6e6-46ed-4102-dc7f-113bf3587031"
      },
      "execution_count": 12,
      "outputs": [
        {
          "output_type": "display_data",
          "data": {
            "text/plain": [
              "<Figure size 800x800 with 9 Axes>"
            ],
            "image/png": "[encoded data removed]"
          },
          "metadata": {}
        }
      ]
    },
    {
      "cell_type": "code",
      "source": [
        "n_classes = len(animals)\n",
        "input_shape = (28, 28, 1)\n",
        "\n",
        "model = keras.Sequential([\n",
        "    layers.Rescaling(1. / 255, input_shape=input_shape),\n",
        "    layers.BatchNormalization(),\n",
        "\n",
        "    layers.Conv2D(6, kernel_size=(3, 3), padding=\"same\", activation=\"relu\"),\n",
        "    layers.Conv2D(8, kernel_size=(3, 3), padding=\"same\", activation=\"relu\"),\n",
        "    layers.Conv2D(10, kernel_size=(3, 3), padding=\"same\", activation=\"relu\"),\n",
        "    layers.BatchNormalization(),\n",
        "    layers.MaxPooling2D(pool_size=(2, 2)),\n",
        "\n",
        "    layers.Flatten(),\n",
        "\n",
        "    layers.Dense(700, activation=\"relu\"),\n",
        "    layers.BatchNormalization(),\n",
        "    layers.Dropout(0.2),\n",
        "\n",
        "    layers.Dense(500, activation=\"relu\"),\n",
        "    layers.BatchNormalization(),\n",
        "    layers.Dropout(0.2),\n",
        "\n",
        "    layers.Dense(400, activation=\"relu\"),\n",
        "    layers.Dropout(0.2),\n",
        "\n",
        "    layers.Dense(n_classes, activation=\"softmax\")\n",
        "])"
      ],
      "metadata": {
        "id": "UD5muR_3f8mS"
      },
      "execution_count": 13,
      "outputs": []
    },
    {
      "cell_type": "code",
      "source": [
        "epochs = 14\n",
        "\n",
        "logdir = os.path.join(\"logs\", datetime.datetime.now().strftime(\"%Y%m%d-%H%M%S\"))\n",
        "tensorboard_callback = TensorBoard(logdir, histogram_freq=1)\n",
        "\n",
        "opt = keras.optimizers.Adam(learning_rate=0.01)\n",
        "model.compile(loss='sparse_categorical_crossentropy', optimizer=opt)"
      ],
      "metadata": {
        "id": "i52nOoL6hCgy"
      },
      "execution_count": 14,
      "outputs": []
    },
    {
      "cell_type": "code",
      "source": [
        "model.fit(\n",
        "    train_ds,\n",
        "    validation_data=val_ds,\n",
        "    epochs=epochs,\n",
        "    verbose=1,\n",
        "    callbacks=[tensorboard_callback]\n",
        ")\n",
        "\n",
        "model.save('./models/model_' + datetime.datetime.now().strftime(\"%Y%m%d-%H%M%S\"))"
      ],
      "metadata": {
        "colab": {
          "base_uri": "https://localhost:8080/"
        },
        "id": "u9HY9Ydrh0TS",
        "outputId": "8afe75eb-e939-4e35-ea8e-05e86a6fc87e"
      },
      "execution_count": 15,
      "outputs": [
        {
          "output_type": "stream",
          "name": "stdout",
          "text": [
            "Epoch 1/14\n",
            "1200/1200 [==============================] - 28s 11ms/step - loss: 3.1925 - val_loss: 4.5420\n",
            "Epoch 2/14\n",
            "1200/1200 [==============================] - 13s 11ms/step - loss: 2.5864 - val_loss: 2.2819\n",
            "Epoch 3/14\n",
            "1200/1200 [==============================] - 15s 12ms/step - loss: 2.3584 - val_loss: 2.1800\n",
            "Epoch 4/14\n",
            "1200/1200 [==============================] - 15s 12ms/step - loss: 2.2693 - val_loss: 2.0164\n",
            "Epoch 5/14\n",
            "1200/1200 [==============================] - 15s 12ms/step - loss: 2.2156 - val_loss: 2.0605\n",
            "Epoch 6/14\n",
            "1200/1200 [==============================] - 15s 12ms/step - loss: 2.1706 - val_loss: 2.0044\n",
            "Epoch 7/14\n",
            "1200/1200 [==============================] - 14s 11ms/step - loss: 2.0827 - val_loss: 1.9088\n",
            "Epoch 8/14\n",
            "1200/1200 [==============================] - 15s 12ms/step - loss: 1.9971 - val_loss: 1.8819\n",
            "Epoch 9/14\n",
            "1200/1200 [==============================] - 13s 11ms/step - loss: 1.9645 - val_loss: 1.8759\n",
            "Epoch 10/14\n",
            "1200/1200 [==============================] - 15s 12ms/step - loss: 1.9281 - val_loss: 1.9884\n",
            "Epoch 11/14\n",
            "1200/1200 [==============================] - 14s 11ms/step - loss: 1.9110 - val_loss: 2.6310\n",
            "Epoch 12/14\n",
            "1200/1200 [==============================] - 14s 12ms/step - loss: 1.8540 - val_loss: 2.1918\n",
            "Epoch 13/14\n",
            "1200/1200 [==============================] - 14s 11ms/step - loss: 1.8163 - val_loss: 1.9144\n",
            "Epoch 14/14\n",
            "1200/1200 [==============================] - 14s 11ms/step - loss: 1.7847 - val_loss: 1.9740\n"
          ]
        },
        {
          "output_type": "stream",
          "name": "stderr",
          "text": [
            "WARNING:absl:Found untraced functions such as _jit_compiled_convolution_op, _jit_compiled_convolution_op, _jit_compiled_convolution_op while saving (showing 3 of 3). These functions will not be directly callable after loading.\n"
          ]
        }
      ]
    }
  ]
}